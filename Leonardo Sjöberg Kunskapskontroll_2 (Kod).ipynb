{
 "cells": [
  {
   "cell_type": "markdown",
   "id": "1cd4ac2c",
   "metadata": {},
   "source": [
    "Imports"
   ]
  },
  {
   "cell_type": "code",
   "execution_count": null,
   "id": "2d45f630",
   "metadata": {},
   "outputs": [],
   "source": [
    "import numpy as np\n",
    "from sklearn.datasets import fetch_openml\n",
    "from sklearn.model_selection import train_test_split, GridSearchCV\n",
    "from sklearn.ensemble import RandomForestClassifier, ExtraTreesClassifier, VotingClassifier\n",
    "from sklearn.svm import LinearSVC, SVC\n",
    "from sklearn.pipeline import make_pipeline\n",
    "from sklearn.preprocessing import StandardScaler\n",
    "from sklearn.neighbors import KNeighborsClassifier\n",
    "from sklearn.tree import DecisionTreeClassifier\n",
    "from sklearn.naive_bayes import GaussianNB\n",
    "from sklearn.linear_model import SGDClassifier\n",
    "from sklearn.metrics import confusion_matrix\n",
    "import seaborn as sns\n",
    "from sklearn.metrics import classification_report\n",
    "import matplotlib as mpl\n",
    "import matplotlib.pyplot as plt\n",
    "import pandas as pd"
   ]
  },
  {
   "cell_type": "markdown",
   "id": "a25abb15",
   "metadata": {},
   "source": [
    "Fetching data and data exploration"
   ]
  },
  {
   "cell_type": "code",
   "execution_count": null,
   "id": "9bb6fd44",
   "metadata": {},
   "outputs": [],
   "source": [
    "mnist = fetch_openml('mnist_784', version = 1, cache = True,  as_frame = False)\n",
    "print(mnist.DESCR)"
   ]
  },
  {
   "cell_type": "code",
   "execution_count": null,
   "id": "c5c3daa9",
   "metadata": {},
   "outputs": [],
   "source": [
    "X = mnist['data']\n",
    "y = mnist['target'].astype(np.uint8)"
   ]
  },
  {
   "cell_type": "code",
   "execution_count": null,
   "id": "9ab63895",
   "metadata": {},
   "outputs": [],
   "source": [
    "df_data = pd.DataFrame(mnist['data'])\n",
    "df_target = pd.DataFrame(mnist['target'])"
   ]
  },
  {
   "cell_type": "code",
   "execution_count": null,
   "id": "a1ecd5f8",
   "metadata": {},
   "outputs": [],
   "source": [
    "df_data.info()"
   ]
  },
  {
   "cell_type": "code",
   "execution_count": null,
   "id": "a8592f65",
   "metadata": {},
   "outputs": [],
   "source": [
    "df_target.info()"
   ]
  },
  {
   "cell_type": "code",
   "execution_count": null,
   "id": "f504b1a7",
   "metadata": {},
   "outputs": [],
   "source": [
    "df_data.describe()"
   ]
  },
  {
   "cell_type": "code",
   "execution_count": null,
   "id": "a4b56654",
   "metadata": {},
   "outputs": [],
   "source": [
    "df_target.describe()"
   ]
  },
  {
   "cell_type": "code",
   "execution_count": null,
   "id": "ee5737fb",
   "metadata": {},
   "outputs": [],
   "source": [
    "i = 0\n",
    "while i < 10:\n",
    "    \n",
    "    print(df_target[df_target==f'{i}'].count())\n",
    "    i = i + 1"
   ]
  },
  {
   "cell_type": "code",
   "execution_count": null,
   "id": "70d5de2c",
   "metadata": {},
   "outputs": [],
   "source": [
    "some_digit = X[0]\n",
    "some_digit_image = some_digit.reshape(28, 28)\n",
    "plt.imshow(some_digit_image, cmap = mpl.cm.binary, interpolation=\"nearest\")\n",
    "plt.axis(\"off\")\n",
    "plt.show()"
   ]
  },
  {
   "cell_type": "markdown",
   "id": "7aa2d4c7",
   "metadata": {},
   "source": [
    "All pictures have 28x28 pixels or 784 labels wich can be between 0 (white) and 255 (Black)"
   ]
  },
  {
   "cell_type": "markdown",
   "id": "aa0d6fe8",
   "metadata": {},
   "source": [
    "Train, val and testdata spliting, and initial model testing"
   ]
  },
  {
   "cell_type": "code",
   "execution_count": null,
   "id": "08f69b5a",
   "metadata": {},
   "outputs": [],
   "source": [
    "#last 10000 is test data and rest is train\n",
    "X_train, y_train, X_test, y_test = X[:60000], y[:60000], X[60000:], y[60000:]\n",
    "\n",
    "#Creating new train set and validation set\n",
    "X_train_new, X_val, y_train_new, y_val = train_test_split(\n",
    "    X_train, \n",
    "    y_train, \n",
    "    test_size=0.15,\n",
    "    random_state=42)"
   ]
  },
  {
   "cell_type": "code",
   "execution_count": null,
   "id": "32d91ce8",
   "metadata": {},
   "outputs": [],
   "source": [
    "def model_eval(dic, X_train, y_train, X_val, y_val):\n",
    "    for model_name, model in dic.items():\n",
    "        model.fit(X_train, y_train)\n",
    "        score = model.score(X_val, y_val)\n",
    "        print(f\"{model_name} score: {score}\")"
   ]
  },
  {
   "cell_type": "code",
   "execution_count": null,
   "id": "e7841edc",
   "metadata": {},
   "outputs": [],
   "source": [
    "models = {'random_forest_clf': RandomForestClassifier(random_state=42), \n",
    "          'extra_trees_clf': ExtraTreesClassifier(random_state=42),\n",
    "          'svc': SVC(random_state=42),\n",
    "          'KNeighborsClassifier': KNeighborsClassifier(),\n",
    "          'DecisionTreeClassifier': DecisionTreeClassifier(random_state=42),\n",
    "         }\n",
    "model_eval(models, X_train_new, y_train_new, X_val, y_val)"
   ]
  },
  {
   "cell_type": "markdown",
   "id": "0844068a",
   "metadata": {},
   "source": [
    "Model fine tuning with GridSearchCV "
   ]
  },
  {
   "cell_type": "code",
   "execution_count": null,
   "id": "92b19fe6",
   "metadata": {},
   "outputs": [],
   "source": [
    "#Getting the best hyper paramaters for the models over 95% in score\n",
    "param_grid = {\n",
    "    'n_estimators': [300],\n",
    "    'criterion': ['gini'], \n",
    "    'max_depth': [None],\n",
    "    'min_samples_split': [4],\n",
    "    'min_samples_leaf': [1],\n",
    "}\n",
    "clf = ExtraTreesClassifier()\n",
    "grid_search = GridSearchCV(clf, param_grid)\n",
    "grid_search.fit(X_train, y_train)\n",
    "grid_search.best_params_"
   ]
  },
  {
   "cell_type": "code",
   "execution_count": null,
   "id": "0accedc2",
   "metadata": {},
   "outputs": [],
   "source": [
    "# Getting the best hyper paramaters for the models over 95% in score\n",
    "param_grid = {\n",
    "    'n_neighbors': [5],\n",
    "    'weights': ['distance'],\n",
    "    'algorithm': ['auto'],\n",
    "    'leaf_size': [20]\n",
    "}\n",
    "clf = KNeighborsClassifier()\n",
    "grid_search = GridSearchCV(clf, param_grid)\n",
    "grid_search.fit(X_train, y_train)\n",
    "grid_search.best_params_\n"
   ]
  },
  {
   "cell_type": "code",
   "execution_count": null,
   "id": "9575cd9a",
   "metadata": {},
   "outputs": [],
   "source": [
    "# Getting the best hyper paramaters for the models over 95% in score\n",
    "param_grid = {\n",
    "    'C': [ 5.0],\n",
    "    'kernel': ['rbf'],\n",
    "    'gamma': ['scale']\n",
    "}\n",
    "clf = SVC()\n",
    "grid_search = GridSearchCV(clf, param_grid, cv=3)\n",
    "grid_search.fit(X_train, y_train)\n",
    "grid_search.best_params_\n"
   ]
  },
  {
   "cell_type": "code",
   "execution_count": null,
   "id": "00c2e8a9",
   "metadata": {},
   "outputs": [],
   "source": [
    "# Getting the best hyper paramaters for the models over 95% in score\n",
    "param_grid = {\n",
    "    'n_estimators': [300],\n",
    "    'criterion': ['gini'],\n",
    "    'max_depth': [None],\n",
    "    'min_samples_split': [2],\n",
    "    'min_samples_leaf': [1],\n",
    "}\n",
    "clf = RandomForestClassifier()\n",
    "grid_search = GridSearchCV(clf, param_grid, cv=3)\n",
    "grid_search.fit(X_train, y_train)\n",
    "grid_search.best_params_\n"
   ]
  },
  {
   "cell_type": "markdown",
   "id": "3c38826e",
   "metadata": {},
   "source": [
    "Model testing after model tuning."
   ]
  },
  {
   "cell_type": "code",
   "execution_count": null,
   "id": "be73c0cc",
   "metadata": {},
   "outputs": [],
   "source": [
    "svc_clf = SVC(C=5.0, kernel='rbf', gamma='scale', random_state=42)\n",
    "\n",
    "svc_clf.fit(X_train_new, y_train_new)\n",
    "y_val_pred = svc_clf.predict(X_val)\n",
    "print(classification_report(y_val, y_val_pred))\n",
    "cm = confusion_matrix(y_val, y_val_pred)\n",
    "\n",
    "sns.heatmap(cm, annot=True, fmt='d')\n",
    "plt.show()"
   ]
  },
  {
   "cell_type": "code",
   "execution_count": null,
   "id": "1ab27d58",
   "metadata": {},
   "outputs": [],
   "source": [
    "random_forest_clf = RandomForestClassifier(\n",
    "    n_estimators=300,\n",
    "    criterion='gini',\n",
    "    max_depth=None,\n",
    "    min_samples_split=2,\n",
    "    min_samples_leaf=1,\n",
    "    random_state=42\n",
    ")\n",
    "random_forest_clf.fit(X_train_new, y_train_new)\n",
    "y_val_pred = random_forest_clf.predict(X_val)\n",
    "print(classification_report(y_val, y_val_pred))\n",
    "cm = confusion_matrix(y_val, y_val_pred)\n",
    "\n",
    "sns.heatmap(cm, annot=True, fmt='d')\n",
    "plt.show()"
   ]
  },
  {
   "cell_type": "code",
   "execution_count": null,
   "id": "0da5af2a",
   "metadata": {},
   "outputs": [],
   "source": [
    "extra_trees_clf = ExtraTreesClassifier(\n",
    "    n_estimators=300,\n",
    "    criterion='gini',\n",
    "    max_depth=None,\n",
    "    min_samples_split=4,\n",
    "    min_samples_leaf=1,\n",
    "    random_state=42\n",
    ")\n",
    "extra_trees_clf.fit(X_train_new, y_train_new)\n",
    "y_val_pred = extra_trees_clf.predict(X_val)\n",
    "print(classification_report(y_val, y_val_pred))\n",
    "cm = confusion_matrix(y_val, y_val_pred)\n",
    "\n",
    "sns.heatmap(cm, annot=True, fmt='d')\n",
    "plt.show()"
   ]
  },
  {
   "cell_type": "code",
   "execution_count": null,
   "id": "3a4d925b",
   "metadata": {},
   "outputs": [],
   "source": [
    "kneighbors_clf = KNeighborsClassifier(\n",
    "    n_neighbors=5,                              \n",
    "    weights='distance',\n",
    "    algorithm='auto',\n",
    "    leaf_size=20,\n",
    ")\n",
    "kneighbors_clf.fit(X_train_new, y_train_new)\n",
    "y_val_pred = kneighbors_clf.predict(X_val)\n",
    "print(classification_report(y_val, y_val_pred))\n",
    "cm = confusion_matrix(y_val, y_val_pred)\n",
    "\n",
    "sns.heatmap(cm, annot=True, fmt='d')\n",
    "plt.show()"
   ]
  },
  {
   "cell_type": "markdown",
   "id": "8c1e45a2",
   "metadata": {},
   "source": [
    "Last model test with test data"
   ]
  },
  {
   "cell_type": "code",
   "execution_count": null,
   "id": "531bf9d1",
   "metadata": {},
   "outputs": [],
   "source": [
    "y_test_pred = svc_clf.predict(X_test)\n",
    "print(classification_report(y_test, y_test_pred))\n",
    "cm = confusion_matrix(y_test, y_test_pred)\n",
    "\n",
    "sns.heatmap(cm, annot=True, fmt='d')\n",
    "plt.show()"
   ]
  },
  {
   "cell_type": "markdown",
   "id": "03a0d72f",
   "metadata": {},
   "source": [
    "Importing, modifying and testing own pictures"
   ]
  },
  {
   "cell_type": "code",
   "execution_count": null,
   "id": "37f0e99e",
   "metadata": {},
   "outputs": [],
   "source": [
    "import cv2\n",
    "import matplotlib as mpl\n",
    "import matplotlib.pyplot as plt\n",
    "\n",
    "\n",
    "file = 'c:/Users/leona/EC-Data science/Machine Learning/machine_learning_ds23-main/machine_learning_ds23-main/kunskapskontroll_2/Siffror/nio.jpg'\n",
    "image = cv2.imread(file, cv2.IMREAD_GRAYSCALE)\n",
    "image = cv2.bitwise_not(image)\n",
    "\n",
    "image_resize = cv2.resize(image, (28, 28), interpolation=cv2.INTER_LINEAR)\n",
    "\n",
    "\n",
    "plt.imshow(image, cmap = mpl.cm.binary, interpolation=\"nearest\")\n",
    "\n",
    "plt.axis(\"off\")\n",
    "plt.show()\n",
    "image_resize.shape"
   ]
  },
  {
   "cell_type": "code",
   "execution_count": null,
   "id": "49bb2b7f",
   "metadata": {},
   "outputs": [],
   "source": [
    "plt.imshow(image_resize.reshape(28, 28), cmap = mpl.cm.binary, interpolation=\"nearest\")\n",
    "\n",
    "plt.axis(\"off\")\n",
    "plt.show()"
   ]
  },
  {
   "cell_type": "code",
   "execution_count": null,
   "id": "80cba702",
   "metadata": {},
   "outputs": [],
   "source": [
    "resized_image = np.resize(image_resize, (1, 784))\n",
    "resized_image.shape"
   ]
  },
  {
   "cell_type": "code",
   "execution_count": null,
   "id": "99abc348",
   "metadata": {},
   "outputs": [],
   "source": [
    "svc_clf.predict(resized_image)"
   ]
  }
 ],
 "metadata": {
  "kernelspec": {
   "display_name": "Python 3 (ipykernel)",
   "language": "python",
   "name": "python3"
  },
  "language_info": {
   "codemirror_mode": {
    "name": "ipython",
    "version": 3
   },
   "file_extension": ".py",
   "mimetype": "text/x-python",
   "name": "python",
   "nbconvert_exporter": "python",
   "pygments_lexer": "ipython3",
   "version": "3.11.4"
  }
 },
 "nbformat": 4,
 "nbformat_minor": 5
}
